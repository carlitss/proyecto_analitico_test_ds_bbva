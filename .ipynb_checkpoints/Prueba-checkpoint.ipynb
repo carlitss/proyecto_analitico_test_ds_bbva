{
 "cells": [
  {
   "cell_type": "code",
   "execution_count": 5,
   "id": "5e9ef1ac-b91b-41b3-b93b-592a9cb380ec",
   "metadata": {
    "scrolled": true
   },
   "outputs": [
    {
     "ename": "SyntaxError",
     "evalue": "invalid syntax (91353066.py, line 25)",
     "output_type": "error",
     "traceback": [
      "\u001b[1;36m  Cell \u001b[1;32mIn[5], line 25\u001b[1;36m\u001b[0m\n\u001b[1;33m    accounts =\u001b[0m\n\u001b[1;37m               ^\u001b[0m\n\u001b[1;31mSyntaxError\u001b[0m\u001b[1;31m:\u001b[0m invalid syntax\n"
     ]
    }
   ],
   "source": [
    "# project/main.py\n",
    "\n",
    "import pandas as pd\n",
    "from constants import (\n",
    "    CUSTOMERS_PATH, \n",
    "    ACCOUNTS_PATH, \n",
    "    TRANSACTIONS_PATH,\n",
    "    OUTPUT_PATH\n",
    ")\n",
    "from utils.utils import Utils\n",
    "from business_logic.integration import IntegrationTransformer\n",
    "from business_logic.cleaning import CleaningTransformer\n",
    "from business_logic.feature_engineering import FeatureEngineeringTransformer\n",
    "\n",
    "def main():\n",
    "    \"\"\"\n",
    "    Función principal que ejecuta el pipeline de procesamiento de datos.\n",
    "    \"\"\"\n",
    "    print(\"===== INICIO DEL PIPELINE DE PROCESAMIENTO DE DATOS BANCARIOS =====\")\n",
    "\n",
    "    # Paso 1: Lectura de Datos\n",
    "    # TODO: Carga las tablas de 'accounts' y 'transactions' usando la función Utils.load_table()\n",
    "    # y las constantes correspondientes.\n",
    "    customers = Utils.load_table(CUSTOMERS_PATH)\n",
    "    accounts = \n",
    "    transactions = \n",
    "\n",
    "    # Instanciar los transformadores\n",
    "    integrator = IntegrationTransformer()\n",
    "    cleaner = CleaningTransformer()\n",
    "    feature_creator = FeatureEngineeringTransformer()\n",
    "\n",
    "    # Paso 2: Unión de Tablas\n",
    "    integrated_data = integrator.integrate_data(transactions, customers, accounts)\n",
    "    \n",
    "    # Paso 3: Limpieza de Datos\n",
    "    cleaned_data = cleaner.clean_data(integrated_data)\n",
    "\n",
    "    # Paso 4: Ingeniería de Features\n",
    "    final_feature_table = feature_creator.create_features(cleaned_data)\n",
    "\n",
    "    # Paso 5: Guardar el resultado\n",
    "    # TODO: Llama a la función Utils.save_dataframe() para guardar 'final_feature_table'.\n",
    "    # Pasa la ruta de salida (OUTPUT_PATH) y un nombre de archivo, por ejemplo 'feature_table.csv'.\n",
    "    \n",
    "\n",
    "    print(\"\\n===== PIPELINE COMPLETADO CON ÉXITO =====\")\n",
    "    print(\"\\n📊 Muestra del Tablón de Features Final:\")\n",
    "    print(final_feature_table.head())\n",
    "    \n",
    "    print(\"\\n📋 Información del Tablón Final:\")\n",
    "    final_feature_table.info()\n",
    "    \n",
    "\n",
    "if __name__ == \"__main__\":\n",
    "    pd.set_option('display.max_columns', None)\n",
    "    pd.set_option('display.width', 1000)\n",
    "    main()"
   ]
  }
 ],
 "metadata": {
  "kernelspec": {
   "display_name": "Python 3 (ipykernel)",
   "language": "python",
   "name": "python3"
  },
  "language_info": {
   "codemirror_mode": {
    "name": "ipython",
    "version": 3
   },
   "file_extension": ".py",
   "mimetype": "text/x-python",
   "name": "python",
   "nbconvert_exporter": "python",
   "pygments_lexer": "ipython3",
   "version": "3.12.4"
  }
 },
 "nbformat": 4,
 "nbformat_minor": 5
}
